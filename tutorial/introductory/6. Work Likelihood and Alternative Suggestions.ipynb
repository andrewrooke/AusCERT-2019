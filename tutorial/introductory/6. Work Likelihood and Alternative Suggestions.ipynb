{
 "cells": [
  {
   "cell_type": "markdown",
   "metadata": {},
   "source": [
    "In this exercise, we will start to see how we can use a trained model on a corpus to look into how to help write new texts, explore options and alternatives, as assess how closely a sentence matches the style of the corpus."
   ]
  },
  {
   "cell_type": "code",
   "execution_count": 13,
   "metadata": {},
   "outputs": [],
   "source": [
    "import markovify"
   ]
  },
  {
   "cell_type": "code",
   "execution_count": 14,
   "metadata": {},
   "outputs": [],
   "source": [
    "corpus = '../data/moby_dick.txt'"
   ]
  },
  {
   "cell_type": "code",
   "execution_count": 15,
   "metadata": {},
   "outputs": [
    {
     "name": "stdout",
     "output_type": "stream",
     "text": [
      "Nor does Hogarth, in painting the same scene in his own absolute body the whale is moored alongside the whale-ship so that he died embalmed.\n",
      "None\n",
      "None\n",
      "None\n",
      "The Narwhale I have heard of Moby Dick—but it was not much chance to think over the matter, for Captain Peleg was now all quiescence, at least so far as could be expected.\n",
      "“Here they saw such huge troops of whales, that they were nothing more than pieces of small squid bones embalmed in that manner.\n",
      "Thus I soon engaged his interest; and from that live punch-bowl quaff the living stuff.”\n",
      "But what it was to be the first time I ever _did_ pray.\n"
     ]
    }
   ],
   "source": [
    "\n",
    "# Get raw text as string.\n",
    "with open(corpus) as f:\n",
    "    text = f.read()\n",
    "\n",
    "# Build the model.\n",
    "text_model = markovify.Text(text, state_size=3)\n",
    "\n",
    "# Print five randomly-generated sentences\n",
    "for i in range(5):\n",
    "    print(text_model.make_sentence())\n",
    "\n",
    "# Print three randomly-generated sentences of no more than 140 characters\n",
    "for i in range(3):\n",
    "    print(text_model.make_short_sentence(140))"
   ]
  },
  {
   "cell_type": "code",
   "execution_count": 16,
   "metadata": {},
   "outputs": [],
   "source": [
    "corpus1 = corpus\n",
    "corpus2 = '../data/lyrics.txt'"
   ]
  },
  {
   "cell_type": "code",
   "execution_count": 17,
   "metadata": {},
   "outputs": [],
   "source": [
    "with open(corpus2) as f:\n",
    "    text2 = f.read()\n",
    "\n",
    "# Build the model.\n",
    "text_model2 = markovify.Text(text2, state_size=3)"
   ]
  },
  {
   "cell_type": "code",
   "execution_count": 18,
   "metadata": {},
   "outputs": [],
   "source": [
    "combined = markovify.combine([text_model, text_model2], [1, 50])"
   ]
  },
  {
   "cell_type": "code",
   "execution_count": 38,
   "metadata": {},
   "outputs": [
    {
     "data": {
      "text/plain": [
       "'Chowder for breakfast, and chowder for supper, till you began to look for it when it shall have ascended again.'"
      ]
     },
     "execution_count": 38,
     "metadata": {},
     "output_type": "execute_result"
    }
   ],
   "source": [
    "combined.make_short_sentence(128)"
   ]
  },
  {
   "cell_type": "code",
   "execution_count": 34,
   "metadata": {},
   "outputs": [
    {
     "data": {
      "text/plain": [
       "'For besides the great length of the harpoon as compared with the lance, yet it is in the head, as in some part of his ivory leg.'"
      ]
     },
     "execution_count": 34,
     "metadata": {},
     "output_type": "execute_result"
    }
   ],
   "source": [
    "# Run this several times to see how the sentence can change\n",
    "# Try different starts. Only 'recognised' starts will work, try taking it from a short sentence from the \n",
    "# cell above\n",
    "text_model.make_sentence_with_start('For besides', strict=False)"
   ]
  },
  {
   "cell_type": "code",
   "execution_count": 64,
   "metadata": {},
   "outputs": [
    {
     "data": {
      "text/plain": [
       "['great',\n",
       " 'length',\n",
       " 'of',\n",
       " 'the',\n",
       " 'entire',\n",
       " 'whale',\n",
       " 'fleet',\n",
       " 'carefully',\n",
       " 'collated,',\n",
       " 'then',\n",
       " 'the',\n",
       " 'migrations',\n",
       " 'of',\n",
       " 'the',\n",
       " 'sperm',\n",
       " 'whale’s',\n",
       " 'resorting',\n",
       " 'to',\n",
       " 'given',\n",
       " 'waters,',\n",
       " 'that',\n",
       " 'many',\n",
       " 'hunters',\n",
       " 'believe',\n",
       " 'that,',\n",
       " 'could',\n",
       " 'he',\n",
       " 'be',\n",
       " 'found,',\n",
       " 'would',\n",
       " 'seem',\n",
       " 'the',\n",
       " 'very',\n",
       " 'man',\n",
       " 'to',\n",
       " 'dart',\n",
       " 'his',\n",
       " 'iron',\n",
       " 'and',\n",
       " 'lift',\n",
       " 'his',\n",
       " 'lance',\n",
       " 'against',\n",
       " 'the',\n",
       " 'most',\n",
       " 'appalling',\n",
       " 'to',\n",
       " 'mankind.']"
      ]
     },
     "execution_count": 64,
     "metadata": {},
     "output_type": "execute_result"
    }
   ],
   "source": [
    "start = ('For', 'besides', 'the')\n",
    "list(combined.chain.walk(init_state = start))"
   ]
  },
  {
   "cell_type": "code",
   "execution_count": 46,
   "metadata": {},
   "outputs": [],
   "source": [
    "BEGIN = \"___BEGIN__\"\n",
    "END = \"___END__\"\n",
    "init_state = None\n",
    "state = init_state or (BEGIN,) * 3"
   ]
  },
  {
   "cell_type": "code",
   "execution_count": 49,
   "metadata": {},
   "outputs": [
    {
     "data": {
      "text/plain": [
       "('\\ufeff',\n",
       " 'By',\n",
       " 'CHAPTER',\n",
       " 'Loomings.',\n",
       " 'The',\n",
       " 'Breakfast.',\n",
       " 'A',\n",
       " 'Nightgown.',\n",
       " 'Biographical.',\n",
       " 'Wheelbarrow.')"
      ]
     },
     "execution_count": 49,
     "metadata": {},
     "output_type": "execute_result"
    }
   ],
   "source": [
    "combined.chain.begin_choices[:10]"
   ]
  },
  {
   "cell_type": "code",
   "execution_count": 66,
   "metadata": {},
   "outputs": [
    {
     "name": "stdout",
     "output_type": "stream",
     "text": [
      "dict_items([('whaling', 1), ('Greenland', 1), ('boat,', 1), ('upper', 1), ('entire', 1), ('creature,', 1), ('Mediterranean,', 1), ('harpoon', 1)])\n"
     ]
    }
   ],
   "source": [
    "state = ('length', 'of', 'the')\n",
    "options = combined.chain.model[state].items()\n",
    "print(options)"
   ]
  },
  {
   "cell_type": "code",
   "execution_count": 77,
   "metadata": {},
   "outputs": [
    {
     "data": {
      "text/plain": [
       "0.125"
      ]
     },
     "execution_count": 77,
     "metadata": {},
     "output_type": "execute_result"
    }
   ],
   "source": [
    "# What are is the likelihood of a specific word in a sentence?\n",
    "1 / sum(list(dict(options).values()))"
   ]
  },
  {
   "cell_type": "code",
   "execution_count": null,
   "metadata": {},
   "outputs": [],
   "source": []
  }
 ],
 "metadata": {
  "kernelspec": {
   "display_name": "Python 3",
   "language": "python",
   "name": "python3"
  },
  "language_info": {
   "codemirror_mode": {
    "name": "ipython",
    "version": 3
   },
   "file_extension": ".py",
   "mimetype": "text/x-python",
   "name": "python",
   "nbconvert_exporter": "python",
   "pygments_lexer": "ipython3",
   "version": "3.6.8"
  }
 },
 "nbformat": 4,
 "nbformat_minor": 2
}
