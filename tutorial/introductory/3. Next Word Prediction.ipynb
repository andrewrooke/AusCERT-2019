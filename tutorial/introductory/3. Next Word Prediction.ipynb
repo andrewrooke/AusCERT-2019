{
 "cells": [
  {
   "cell_type": "code",
   "execution_count": 3,
   "metadata": {},
   "outputs": [],
   "source": [
    "import markovify"
   ]
  },
  {
   "cell_type": "code",
   "execution_count": 4,
   "metadata": {},
   "outputs": [],
   "source": [
    "corpus = '../data/moby_dick.txt'"
   ]
  },
  {
   "cell_type": "code",
   "execution_count": 37,
   "metadata": {},
   "outputs": [
    {
     "name": "stdout",
     "output_type": "stream",
     "text": [
      "And as for those who, previously hearing of the White Whale’s name to another ship, Ahab for a Nantucketer he knew.\n",
      "Steering north-eastward from the Crozetts, we fell in with vast meadows of brit, the Pequod still held on her path towards the Equator.\n",
      "None\n",
      "If the Sperm Whale has no tongue, or at least shift, his conceit of attainable felicity; not placing it anywhere in the world go about with a grave-yard tray!\n",
      "None\n",
      "Glancing upwards, he cried: “See! see!” and once more the Pequod and every soul on board instinctively desired a lowering.\n",
      "Keep him nailed—Quick!—all hands to the rigging to behold the famous whale they had slain.\n",
      "Assuming the blubber to be the root of his tail.” —_A Chapter on Whaling in Ribs and Trucks_.\n"
     ]
    }
   ],
   "source": [
    "\n",
    "# Get raw text as string.\n",
    "with open(corpus) as f:\n",
    "    text = f.read()\n",
    "\n",
    "# Build the model.\n",
    "text_model = markovify.Text(text, state_size=3)\n",
    "\n",
    "# Print five randomly-generated sentences\n",
    "for i in range(5):\n",
    "    print(text_model.make_sentence())\n",
    "\n",
    "# Print three randomly-generated sentences of no more than 140 characters\n",
    "for i in range(3):\n",
    "    print(text_model.make_short_sentence(140))"
   ]
  },
  {
   "cell_type": "code",
   "execution_count": 38,
   "metadata": {},
   "outputs": [],
   "source": [
    "corpus1 = corpus\n",
    "corpus2 = '../data/lyrics.txt'"
   ]
  },
  {
   "cell_type": "code",
   "execution_count": 40,
   "metadata": {},
   "outputs": [],
   "source": [
    "with open(corpus2) as f:\n",
    "    text2 = f.read()\n",
    "\n",
    "# Build the model.\n",
    "text_model2 = markovify.Text(text2, state_size=3)"
   ]
  },
  {
   "cell_type": "code",
   "execution_count": 41,
   "metadata": {},
   "outputs": [
    {
     "name": "stdout",
     "output_type": "stream",
     "text": [
      "None\n",
      "And echoed in the wells of silence And in the naked light I saw.\n",
      "Oh, oh, oh, oh, oh.\n",
      "And the fakers gonna fake, fake, fake, fake, fake, fake, fake.\n",
      "None\n",
      "And that's what they don't see, mmm-mmm That's what people say, mmm-mmm That's what people say, mmm-mmm.\n",
      "Oh, oh, oh, oh, oh, oh, oh.\n",
      "And echoed in the wells of silence And in the naked light I saw.\n"
     ]
    }
   ],
   "source": [
    "# Print five randomly-generated sentences\n",
    "for i in range(5):\n",
    "    print(text_model2.make_sentence())\n",
    "\n",
    "# Print three randomly-generated sentences of no more than 140 characters\n",
    "for i in range(3):\n",
    "    print(text_model2.make_short_sentence(140))"
   ]
  },
  {
   "cell_type": "code",
   "execution_count": 46,
   "metadata": {},
   "outputs": [],
   "source": [
    "combined = markovify.combine([text_model, text_model2], [1, 50])"
   ]
  },
  {
   "cell_type": "code",
   "execution_count": 48,
   "metadata": {},
   "outputs": [
    {
     "name": "stdout",
     "output_type": "stream",
     "text": [
      "None\n",
      "I’ve been several voyages in the merchant service many captains never show themselves on deck among bundles of new irons and lances.\n",
      "Baby, I'm just gonna shake, shake, shake, shake, shake, shake, shake.\n",
      "Baby, I'm just gonna shake, shake, shake, shake, shake, shake, shake.\n",
      "Now, as the business of boiling out; and in the wild conceits that swayed me to my wish.\n",
      "“Who would have thought from the sound on the Pequod’s decks, that all hands were in a horse-collar; and suddenly felt a slight scratch.\n",
      "Do you suppose now, Ishmael, that the magnanimous God of heaven and earth conspire to cast her on the treacherous, slavish shore?\n",
      "And that's what they don't see, mmm-mmm That's what they don't know, mmm-mmm That's what people say, mmm-mmm.\n"
     ]
    }
   ],
   "source": [
    "# Print five randomly-generated sentences\n",
    "for i in range(5):\n",
    "    print(combined.make_sentence())\n",
    "\n",
    "# Print three randomly-generated sentences of no more than 140 characters\n",
    "for i in range(3):\n",
    "    print(combined.make_short_sentence(140))"
   ]
  },
  {
   "cell_type": "code",
   "execution_count": null,
   "metadata": {},
   "outputs": [],
   "source": []
  },
  {
   "cell_type": "code",
   "execution_count": null,
   "metadata": {},
   "outputs": [],
   "source": []
  }
 ],
 "metadata": {
  "kernelspec": {
   "display_name": "Python 3",
   "language": "python",
   "name": "python3"
  },
  "language_info": {
   "codemirror_mode": {
    "name": "ipython",
    "version": 3
   },
   "file_extension": ".py",
   "mimetype": "text/x-python",
   "name": "python",
   "nbconvert_exporter": "python",
   "pygments_lexer": "ipython3",
   "version": "3.6.8"
  }
 },
 "nbformat": 4,
 "nbformat_minor": 2
}
