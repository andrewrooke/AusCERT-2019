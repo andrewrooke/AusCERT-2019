{
 "cells": [
  {
   "cell_type": "code",
   "execution_count": 9,
   "metadata": {},
   "outputs": [],
   "source": [
    "import email\n",
    "maildir = '../data/email/maildir'"
   ]
  },
  {
   "cell_type": "code",
   "execution_count": 22,
   "metadata": {},
   "outputs": [
    {
     "data": {
      "text/plain": [
       "['36.',\n",
       " '264.',\n",
       " '166.',\n",
       " '96.',\n",
       " '149.',\n",
       " '100.',\n",
       " '19.',\n",
       " '50.',\n",
       " '3.',\n",
       " '202.',\n",
       " '208.',\n",
       " '241.',\n",
       " '9.',\n",
       " '185.',\n",
       " '13.',\n",
       " '143.',\n",
       " '125.',\n",
       " '227.',\n",
       " '75.',\n",
       " '165.',\n",
       " '35.',\n",
       " '267.',\n",
       " '53.',\n",
       " '248.',\n",
       " '201.',\n",
       " '95.',\n",
       " '103.',\n",
       " '109.',\n",
       " '140.',\n",
       " '242.',\n",
       " '59.',\n",
       " '186.',\n",
       " '10.',\n",
       " '224.',\n",
       " '76.',\n",
       " '126.',\n",
       " '112.',\n",
       " '84.',\n",
       " '42.',\n",
       " '210.',\n",
       " '259.',\n",
       " '24.',\n",
       " '174.',\n",
       " '137.',\n",
       " '235.',\n",
       " '67.',\n",
       " '253.',\n",
       " '197.',\n",
       " '48.',\n",
       " '151.',\n",
       " '118.',\n",
       " '41.',\n",
       " '213.',\n",
       " '111.',\n",
       " '158.',\n",
       " '87.',\n",
       " '177.',\n",
       " '27.',\n",
       " '236.',\n",
       " '64.',\n",
       " '134.',\n",
       " '152.',\n",
       " '250.',\n",
       " '219.',\n",
       " '194.',\n",
       " '23.',\n",
       " '238.',\n",
       " '173.',\n",
       " '115.',\n",
       " '83.',\n",
       " '45.',\n",
       " '217.',\n",
       " '254.',\n",
       " '190.',\n",
       " '89.',\n",
       " '156.',\n",
       " '130.',\n",
       " '179.',\n",
       " '232.',\n",
       " '60.',\n",
       " '29.',\n",
       " '170.',\n",
       " '139.',\n",
       " '20.',\n",
       " '69.',\n",
       " '46.',\n",
       " '199.',\n",
       " '214.',\n",
       " '116.',\n",
       " '80.',\n",
       " '155.',\n",
       " '257.',\n",
       " '193.',\n",
       " '231.',\n",
       " '63.',\n",
       " '133.',\n",
       " '91.',\n",
       " '107.',\n",
       " '188.',\n",
       " '57.',\n",
       " '4.',\n",
       " '205.',\n",
       " '78.',\n",
       " '31.',\n",
       " '263.',\n",
       " '128.',\n",
       " '161.',\n",
       " '122.',\n",
       " '220.',\n",
       " '72.',\n",
       " '246.',\n",
       " '182.',\n",
       " '14.',\n",
       " '144.',\n",
       " '54.',\n",
       " '7.',\n",
       " '206.',\n",
       " '92.',\n",
       " '104.',\n",
       " '162.',\n",
       " '32.',\n",
       " '229.',\n",
       " '260.',\n",
       " '223.',\n",
       " '38.',\n",
       " '71.',\n",
       " '168.',\n",
       " '121.',\n",
       " '147.',\n",
       " '98.',\n",
       " '245.',\n",
       " '181.',\n",
       " '17.',\n",
       " '207.',\n",
       " '6.',\n",
       " '55.',\n",
       " '105.',\n",
       " '93.',\n",
       " '163.',\n",
       " '261.',\n",
       " '228.',\n",
       " '33.',\n",
       " '70.',\n",
       " '39.',\n",
       " '222.',\n",
       " '120.',\n",
       " '169.',\n",
       " '99.',\n",
       " '146.',\n",
       " '16.',\n",
       " '180.',\n",
       " '244.',\n",
       " '106.',\n",
       " '90.',\n",
       " '204.',\n",
       " '5.',\n",
       " '56.',\n",
       " '189.',\n",
       " '262.',\n",
       " '30.',\n",
       " '79.',\n",
       " '160.',\n",
       " '129.',\n",
       " '123.',\n",
       " '73.',\n",
       " '221.',\n",
       " '268.',\n",
       " '15.',\n",
       " '183.',\n",
       " '247.',\n",
       " '145.',\n",
       " '138.',\n",
       " '171.',\n",
       " '21.',\n",
       " '215.',\n",
       " '198.',\n",
       " '47.',\n",
       " '81.',\n",
       " '117.',\n",
       " '154.',\n",
       " '192.',\n",
       " '256.',\n",
       " '62.',\n",
       " '230.',\n",
       " '132.',\n",
       " '22.',\n",
       " '172.',\n",
       " '82.',\n",
       " '114.',\n",
       " '216.',\n",
       " '44.',\n",
       " '191.',\n",
       " '255.',\n",
       " '157.',\n",
       " '88.',\n",
       " '178.',\n",
       " '131.',\n",
       " '28.',\n",
       " '61.',\n",
       " '233.',\n",
       " '212.',\n",
       " '40.',\n",
       " '86.',\n",
       " '159.',\n",
       " '110.',\n",
       " '176.',\n",
       " '26.',\n",
       " '65.',\n",
       " '237.',\n",
       " '135.',\n",
       " '153.',\n",
       " '195.',\n",
       " '218.',\n",
       " '251.',\n",
       " '85.',\n",
       " '113.',\n",
       " '258.',\n",
       " '211.',\n",
       " '43.',\n",
       " '25.',\n",
       " '175.',\n",
       " '136.',\n",
       " '66.',\n",
       " '234.',\n",
       " '49.',\n",
       " '196.',\n",
       " '252.',\n",
       " '119.',\n",
       " '150.',\n",
       " '164.',\n",
       " '266.',\n",
       " '34.',\n",
       " '200.',\n",
       " '1.',\n",
       " '249.',\n",
       " '52.',\n",
       " '102.',\n",
       " '94.',\n",
       " '141.',\n",
       " '108.',\n",
       " '11.',\n",
       " '187.',\n",
       " '58.',\n",
       " '243.',\n",
       " '77.',\n",
       " '225.',\n",
       " '127.',\n",
       " '265.',\n",
       " '37.',\n",
       " '167.',\n",
       " '101.',\n",
       " '148.',\n",
       " '97.',\n",
       " '203.',\n",
       " '2.',\n",
       " '51.',\n",
       " '18.',\n",
       " '12.',\n",
       " '184.',\n",
       " '240.',\n",
       " '8.',\n",
       " '209.',\n",
       " '142.',\n",
       " '124.',\n",
       " '74.',\n",
       " '226.']"
      ]
     },
     "execution_count": 22,
     "metadata": {},
     "output_type": "execute_result"
    }
   ],
   "source": [
    "import os; os.listdir('../data/email/maildir/lay-k/sent')"
   ]
  },
  {
   "cell_type": "code",
   "execution_count": 39,
   "metadata": {},
   "outputs": [
    {
     "data": {
      "text/plain": [
       "['Message-ID: <13217776.1075840281421.JavaMail.evans@thyme>\\n',\n",
       " 'Date: Tue, 20 Jun 2000 02:20:00 -0700 (PDT)\\n',\n",
       " 'From: rosalee.fleming@enron.com\\n',\n",
       " 'To: djbryant@insync.net\\n',\n",
       " 'Subject: Re: Solicitation to Past Fathers of the Year\\n',\n",
       " 'Cc: tori.wells@enron.com\\n',\n",
       " 'Mime-Version: 1.0\\n',\n",
       " 'Content-Type: text/plain; charset=us-ascii\\n',\n",
       " 'Content-Transfer-Encoding: 7bit\\n',\n",
       " 'Bcc: tori.wells@enron.com\\n',\n",
       " 'X-From: Rosalee Fleming\\n',\n",
       " 'X-To: \"Donna J. Bryant\" <djbryant@insync.net>\\n',\n",
       " 'X-cc: Tori L Wells\\n',\n",
       " 'X-bcc: \\n',\n",
       " 'X-Folder: \\\\Kenneth_Lay_Dec2000\\\\Notes Folders\\\\Sent\\n',\n",
       " 'X-Origin: LAY-K\\n',\n",
       " 'X-FileName: klay.nsf\\n',\n",
       " '\\n',\n",
       " 'Hi Donna -\\n',\n",
       " '\\n',\n",
       " 'Ken said that the letter is fine.  Do you want to send us a list of the past \\n',\n",
       " 'Fathers and let us send the letters?\\n',\n",
       " '\\n',\n",
       " 'Let me know.\\n',\n",
       " '\\n',\n",
       " 'Rosie\\n',\n",
       " '\\n',\n",
       " '\\n',\n",
       " '\\n',\n",
       " '\\n',\n",
       " '\"Donna J. Bryant\" <djbryant@insync.net> on 06/19/2000 04:40:19 PM\\n',\n",
       " 'To: <kenneth.lay@enron.com>\\n',\n",
       " 'cc: <hdavis@enron.com> \\n',\n",
       " 'Subject: Solicitation to Past Fathers of the Year\\n',\n",
       " '\\n',\n",
       " '\\n',\n",
       " 'Ken,\\n',\n",
       " '  Thank you so very much for thinking of this idea.  It is so timely and\\n',\n",
       " \"certainly fits with Kirbyjon's challenge. I have spoken with Hardie (who\\n\",\n",
       " 'also edited this letter for me) and we both agree that this would have much\\n',\n",
       " 'greater impact if it came directly from you, as a past Father of the Year.\\n',\n",
       " 'As you can see we attributed the information about our shortfall directly\\n',\n",
       " 'to me, so I am involved in the letter but not doing the solicitation.  If\\n',\n",
       " 'you are not comfortable with this, just let me know and I will redo the\\n',\n",
       " 'letter.  I think if you agree to send this out over your signature it would\\n',\n",
       " \"be enormously helpful.  Please let me know what you'd like me to do.\\n\",\n",
       " '\\n',\n",
       " '  Thank you again for your thoughtfulness and continuous support.\\n',\n",
       " '\\n',\n",
       " '    Donna\\n',\n",
       " ' - KLay2000request.doc\\n',\n",
       " '\\n']"
      ]
     },
     "execution_count": 39,
     "metadata": {},
     "output_type": "execute_result"
    }
   ],
   "source": [
    "open('../data/email/maildir/lay-k/sent/103.').readlines()"
   ]
  },
  {
   "cell_type": "code",
   "execution_count": 28,
   "metadata": {},
   "outputs": [
    {
     "data": {
      "text/plain": [
       "'Message-ID: <14341840.1075840281768.JavaMail.evans@thyme>\\nDate: Fri, 26 May 2000 08:05:00 -0700 (PDT)\\nFrom: rosalee.fleming@enron.com\\nTo: ted.enloe@compaq.com\\nSubject: Re: FW: Avnet/Compaq Decision at Intuit\\nMime-Version: 1.0\\nContent-Type: text/plain; charset=us-ascii\\nContent-Transfer-Encoding: 7bit\\nX-From: Rosalee Fleming\\nX-To: \"Enloe, Ted\" <Ted.Enloe@COMPAQ.com>\\nX-cc: \\nX-bcc: \\nX-Folder: \\\\Kenneth_Lay_Dec2000\\\\Notes Folders\\\\Sent\\nX-Origin: LAY-K\\nX-FileName: klay.nsf\\n\\nMr. Enloe -\\n\\nKen Lay asked me to let you know that he doesn\\'t know Stephen Bennett.\\n\\nRosalee\\n\\n\\n\\n\\n\"Enloe, Ted\" <Ted.Enloe@COMPAQ.com> on 05/24/2000 08:18:07 AM\\nTo: \"Benjamin M. Rosen (E-mail)\" <ben@brosen.com>, \"Chris A. Davis (E-mail)\" \\n<chris.davis@gulfaero.com>, \"Frank P. Doyle (E-mail)\" \\n<Frank.Doyle@COMPAQ.com>, \"George H. Heilmeier (E-mail)\" <ghh@telcordia.com>, \\n\"Judith L. Craven (E-mail)\" <lynnj@iname.com>, \"Kenneth L. Lay (E-mail)\" \\n<klay@enron.com>, \"Kenneth Roman (E-mail)\" <kenroman@worldnet.att.net>, \\n\"Lawrence T. Babbio Jr. (E-mail)\" <babbio@BellAtlantic.com>, \"Lucille S. \\nSalhany (E-mail)\" <lucie@jhmedia.com>, \"Peter N. Larson (E-mail)\" \\n<hkiss@bruncorp.com>, \"Thomas J. Perkins (E-mail)\" <kjewett@kpcb.com>\\ncc: \"Fusco, David L.\" <David.Fusco@COMPAQ.com> \\nSubject: FW: Avnet/Compaq Decision at Intuit\\n\\n\\nIf any of you know Stephen Bennett, would you please contact David Fusco to\\nmake a call.\\n\\nThanks,  ted\\n\\n> -----Original Message-----\\n> From: Fusco, David L.\\n> Sent: Wednesday, May 24, 2000 12:39 AM\\n> To: Enloe, Ted\\n> Subject: FW: Avnet/Compaq Decision at Intuit\\n> Importance: High\\n>\\n> Hi Ted.  We\\'re in the final stages of closing a significant High\\n> Availability opportunity at Intuit.  Our San Diego sales team has done an\\n> outstanding job to position Compaq as their vendor of choice against Sun,\\n> HP and EMC.  Please refer to the email below for more specific details on\\n> Intuit\\'s decision.\\n>\\n> Sometime next week Intuit\\'s CIO, Jennifer Hall, will be presenting their\\n> formal recommendation to Stephen Bennett, President, CEO.  We\\'ve been told\\n> that he\\'s friends with a Compaq board member.  I need your help in\\n> identifying that person.  Once identified, we\\'d like them to contact\\n> Stephen ASAP in order to communicate the following:\\n>\\n> Compaq\\'s senior management, including the Board of Directors, is aware of\\n> the Intuit opportunity.  Compaq\\'s committed, and determined, to meet and\\n> exceed their expectations.\\n>\\n> The Intuit sales team, headed by Bob Oakes, will prepare a briefing\\n> document for our board member to use.  Please advise ASAP.  Thanks for\\n> your help and support on this!\\n>\\n> Dave Fusco\\n> Area Director, Southern California\\n> Enterprise Business Unit\\n> 949-462-9762 W\\n> 949-462-9763 F\\n> 714-394-9009 M\\n> 800-842-2460 P\\n> david.fusco@compaq.com\\n>\\n> Intuit Names Stephen Bennett As President, CEO\\n> Senior Financial Services Executive Brings Broad Experience Growing\\n> Diverse Businesses\\n> Mountain View, Calif. -- Jan. 24, 2000 -- Intuit Inc. (NASDAQ: INTU\\n> <http://www.quicken.com/investments/quotes/?symbol=INTU>) announced today\\n> that its board of directors has selected Stephen M. Bennett as president\\n> and chief executive officer. Bennett assumes his responsibilities\\n> immediately, succeeding Bill Campbell, who had been acting chief executive\\n> since September. Campbell is retiring from day-to-day responsibilities but\\n> will remain chairman of the board of directors. Bennett was also named to\\n> the board.\\n> Bennett, 45, was most recently an executive vice president and member of\\n> the Office of the CEO at GE Capital, the financial services subsidiary of\\n> General Electric Corp. GE Capital is the world leader in numerous\\n> financial industries, including private label credit cards, commercial\\n> equipment leasing and vendor finance. With $330 billion in assets, GE\\n> Capital provides 42% of General Electric\\'s overall profits and is among\\n> the world\\'s largest non-banking financial institutions.\\n> \"Steve is an outstanding leader from a company renowned for strong\\n> leadership,\" said Campbell. \"His experience is tailor-made to fit Intuit\\'s\\n> needs now and in the future. We wanted someone with service industry\\n> knowledge, who had led large, complex organizations and with proven\\n> ability to produce fast growth. Steve is the ideal choice to take Intuit\\n> to the multi-billion dollar level.\"\\n> \"Intuit is the leader in e-finance. Quicken.com is already the leader in\\n> online tax preparation and online mortgage origination,\" said Bennett, who\\n> will relocate from Connecticut to the Bay Area. \"I\\'m excited to have the\\n> opportunity to continue developing services for the Internet and take\\n> Intuit\\'s industry leadership to new heights.\"\\n> During his GE career, Bennett held significant leadership positions in six\\n> different businesses within the company, spanning both manufacturing and\\n> financial services. In his most recent position, he oversaw a portfolio of\\n> five different companies whose more than 20,000 employees last year\\n> generated $15 billion in annual volume. Prior to that, as president and\\n> CEO of GE Capital e-Business, he pioneered the company\\'s efforts to\\n> leverage the Internet across GE Capital\\'s worldwide portfolio of\\n> businesses.\\n> Previously he delivered significant growth as the president and CEO of GE\\n> Capital\\'s more than 4,000-employee Vendor Financial Services business.\\n> Under his leadership, assets grew to more than $13 billion from $5 billion\\n> and net income increased to $200 million from $80 million in four years.\\n> Intuit board member John Doerr said he was impressed by Bennett\\'s broad\\n> base of experience. \"Steve knows business-to-business as well as\\n> business-to-consumer. He knows service businesses. And he gets the Net.\\n> Intuit\\'s product leadership and Steve\\'s ability to grow businesses are an\\n> ideal match for our future.\"\\n> Bennett added, \"Intuit\\'s management team is strong, stable and experienced\\n> and works well together,\" he said. \"This is one of the few management\\n> teams to successfully and rapidly transform a company to the Net. I\\'m glad\\n> to have the opportunity to lead Intuit\\'s continued growth and expansion.\"\\n> Scott Cook, Intuit founder and chairman of its executive committee, said,\\n> \"Steve shares Intuit\\'s values. He\\'s a straightforward, no-nonsense,\\n> results-driven executive who cares deeply about people. His\\n> values-oriented leadership style energizes organizations to great\\n> achievement, and I look forward to working with him.\"\\n>\\n>\\n>  -----Original Message-----\\n>  From: Marino, Richard [mailto:Richard_Marino@intuit.com]\\n>  Sent: Monday, April 24, 2000 8:01 PM\\n>  To: Oakes, Bob; \\'Janice.Farnow@avnet.com\\'; Velijanian, Fred\\n>  Cc: Bell, Lance; Pan, Andrew\\n>  Subject: High Availability Server Evaluation Results\\n>\\n>\\n>  We first want to express our appreciation to both HP and Compaq for\\n> their\\n>  efforts in helping make our evaluation project a sucess.  This did\\n> not\\n>  surprise us, as you have both been strong partners with us up to\\n> now.\\n>\\n>  As we indicated at the beginning, this evaluation was specifically\\n> aimed at\\n>  how well each vendor performed at helping us install, develop, test\\n> and\\n>  engineer an effective Oracle HA solution.  The ability to work with\\n> our\\n>  Intuit team and the strength of the vendors support were critical\\n> factors.\\n>  Certainly the difficultly of data migration impacted this project,\\n> limited\\n>  our performance testing, and remains of great concern to us in\\n> considering\\n>  any migration in the future.\\n>\\n>  We are taking the opportunity to provide you with our honest\\n> evaluation in\\n>  the hopes that this information may be of value to you.  We do\\n> however\\n>  consider this information confidential and ask that you do not share\\n> it\\n>  outside of your organization.  In addition we are providing it with\\n> the\\n>  understanding that you will not use the details contained herein to\\n>  criticize each other in an effort to promote your own position.\\n>\\n>  Here is a summary of our evaluation:\\n>\\n>  Sun Clusters - unacceptable, lacking features and EMC disk support\\n>  Sun/Veritas Clusters - acceptable, but uncertain support and future\\n>  HP Clusters - very good, strong features,  strong product roadmap,\\n> very good\\n>  technical support,  marginal sales support, variable support during\\n>  evaluation\\n>  Compaq - very good, stronger features, strong product roadmap,\\n> outstanding\\n>  support, higher risk\\n>\\n>  It should be understood, that there has not been a final decision\\n> and\\n>  management has not approved a migration plan.\\n>\\n>  We recommended Compaq, provided that we would be able to reduce the\\n> risk\\n>  factor associated with the recent release of their current software\\n> and\\n>  hardware architectures.\\n>\\n>  Management has requested that some further analysis be done (which\\n> were not\\n>  in the scope of this project) including cost/benefit analysis from\\n> our\\n>  customer\\'s viewpoint and conversion cost estimates.  We believe we\\n> have all\\n>  the vendor information necessary to complete this analysis though\\n> they may\\n>  be a few pricing issues that will need clarification.\\n>\\n>  We will be in contact with each vendor regarding the disposition of\\n> the\\n>  loaned equipment we have on site from each vendor.\\n>\\n>  We again thank you for your efforts.  You will both remain key\\n> partners of\\n>  Intuit in the forseeable future and we hope to see our relationship,\\n>  whatever the final determination by management concerning this\\n> project, to\\n>  continue to improve.\\n>\\n>  Richard Marino\\n>  Lance Bell\\n>   \\n\\n'"
      ]
     },
     "execution_count": 28,
     "metadata": {},
     "output_type": "execute_result"
    }
   ],
   "source": [
    "open('../data/email/maildir/lay-k/sent/118.').read()"
   ]
  },
  {
   "cell_type": "code",
   "execution_count": 29,
   "metadata": {},
   "outputs": [],
   "source": [
    "import email"
   ]
  },
  {
   "cell_type": "code",
   "execution_count": 31,
   "metadata": {},
   "outputs": [],
   "source": [
    "msg = email.message_from_string(open('../data/email/maildir/lay-k/sent/118.').read())"
   ]
  },
  {
   "cell_type": "code",
   "execution_count": 34,
   "metadata": {},
   "outputs": [
    {
     "data": {
      "text/plain": [
       "['Message-ID',\n",
       " 'Date',\n",
       " 'From',\n",
       " 'To',\n",
       " 'Subject',\n",
       " 'Mime-Version',\n",
       " 'Content-Type',\n",
       " 'Content-Transfer-Encoding',\n",
       " 'X-From',\n",
       " 'X-To',\n",
       " 'X-cc',\n",
       " 'X-bcc',\n",
       " 'X-Folder',\n",
       " 'X-Origin',\n",
       " 'X-FileName']"
      ]
     },
     "execution_count": 34,
     "metadata": {},
     "output_type": "execute_result"
    }
   ],
   "source": [
    "msg.keys()"
   ]
  },
  {
   "cell_type": "code",
   "execution_count": 35,
   "metadata": {},
   "outputs": [
    {
     "data": {
      "text/plain": [
       "'rosalee.fleming@enron.com'"
      ]
     },
     "execution_count": 35,
     "metadata": {},
     "output_type": "execute_result"
    }
   ],
   "source": [
    "msg['From']"
   ]
  },
  {
   "cell_type": "code",
   "execution_count": 36,
   "metadata": {},
   "outputs": [
    {
     "data": {
      "text/plain": [
       "'ted.enloe@compaq.com'"
      ]
     },
     "execution_count": 36,
     "metadata": {},
     "output_type": "execute_result"
    }
   ],
   "source": [
    "msg['To']"
   ]
  },
  {
   "cell_type": "code",
   "execution_count": 69,
   "metadata": {},
   "outputs": [],
   "source": [
    "text = msg.get_payload()"
   ]
  },
  {
   "cell_type": "code",
   "execution_count": 72,
   "metadata": {},
   "outputs": [
    {
     "name": "stdout",
     "output_type": "stream",
     "text": [
      "Mr. Enloe -\n",
      "\n",
      "Ken Lay asked me to let you know that he doesn't know Stephen Bennett.\n",
      "\n",
      "Rosalee\n",
      "\n",
      "\n",
      "\n",
      "\n",
      "\"Enloe, Ted\" <Ted.Enloe@COMPAQ.com> on 05/24/2000 08:18:07 AM\n",
      "To: \"Benjamin M. Rosen (E-mail)\" <ben@bro\n"
     ]
    }
   ],
   "source": [
    "print(text[:200])"
   ]
  },
  {
   "cell_type": "code",
   "execution_count": null,
   "metadata": {},
   "outputs": [],
   "source": []
  }
 ],
 "metadata": {
  "kernelspec": {
   "display_name": "Python 3",
   "language": "python",
   "name": "python3"
  },
  "language_info": {
   "codemirror_mode": {
    "name": "ipython",
    "version": 3
   },
   "file_extension": ".py",
   "mimetype": "text/x-python",
   "name": "python",
   "nbconvert_exporter": "python",
   "pygments_lexer": "ipython3",
   "version": "3.6.8"
  }
 },
 "nbformat": 4,
 "nbformat_minor": 2
}
