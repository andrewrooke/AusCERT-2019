{
 "cells": [
  {
   "cell_type": "markdown",
   "metadata": {},
   "source": [
    "# Simple PCAP file loading and structure explotation\n",
    "\n",
    "In this example, we will simply load a sample PCAP file and explore its contents using the tools we saw in the demo. Later in the tutorial we will look at how to query this data for the attributes we may wish to utilise for a machine learning example.\n"
   ]
  },
  {
   "cell_type": "code",
   "execution_count": 2,
   "metadata": {},
   "outputs": [],
   "source": [
    "import dpkt\n",
    "import gzip\n",
    "import os\n",
    "import datetime"
   ]
  },
  {
   "cell_type": "code",
   "execution_count": 6,
   "metadata": {},
   "outputs": [
    {
     "data": {
      "text/plain": [
       "['pima-indians-diabetes.data.csv',\n",
       " 'lyrics.txt',\n",
       " 'moby_dick.txt',\n",
       " 'net100.txt.gz',\n",
       " 'Readme.md',\n",
       " 'maccdc2012_00000.pcap.gz',\n",
       " 'email']"
      ]
     },
     "execution_count": 6,
     "metadata": {},
     "output_type": "execute_result"
    }
   ],
   "source": [
    "os.listdir('../data')"
   ]
  },
  {
   "cell_type": "code",
   "execution_count": 7,
   "metadata": {},
   "outputs": [
    {
     "name": "stdout",
     "output_type": "stream",
     "text": [
      "['pima-indians-diabetes.data.csv', 'lyrics.txt', 'moby_dick.txt', 'net100.txt.gz', 'Readme.md', 'maccdc2012_00000.pcap.gz', 'email']\n"
     ]
    }
   ],
   "source": [
    "print(os.listdir('../data'))\n",
    "input_zipfile = '../data/maccdc2012_00000.pcap.gz'"
   ]
  },
  {
   "cell_type": "code",
   "execution_count": 8,
   "metadata": {},
   "outputs": [],
   "source": [
    "pcap_data = gzip.open(input_zipfile, 'rb')"
   ]
  },
  {
   "cell_type": "code",
   "execution_count": 9,
   "metadata": {},
   "outputs": [],
   "source": [
    "pcap = dpkt.pcap.Reader(pcap_data)"
   ]
  },
  {
   "cell_type": "code",
   "execution_count": 10,
   "metadata": {},
   "outputs": [
    {
     "name": "stdout",
     "output_type": "stream",
     "text": [
      "12:30:00.000000: 443 --> 46117\n",
      "12:30:00.000000: 46117 --> 443\n",
      "12:30:00.000000: 50463 --> 80\n",
      "12:30:00.000000: 443 --> 46117\n",
      "12:30:00.000000: 50465 --> 80\n",
      "12:30:00.000000: 55173 --> 445\n",
      "12:30:00.000000: 80 --> 50463\n",
      "12:30:00.000000: 443 --> 46117\n",
      "12:30:00.000000: 80 --> 50465\n",
      "12:30:00.000000: 443 --> 46117\n",
      "12:30:00.000000: 443 --> 46117\n",
      "12:30:00.000000: 443 --> 46117\n",
      "12:30:00.000000: 443 --> 46117\n",
      "12:30:00.000000: 443 --> 46117\n",
      "12:30:00.000000: 445 --> 55173\n",
      "12:30:00.000000: 50465 --> 80\n",
      "12:30:00.000000: 50465 --> 80\n",
      "12:30:00.000000: 55173 --> 445\n",
      "12:30:00.000000: 445 --> 55173\n",
      "12:30:00.000000: 80 --> 50465\n"
     ]
    }
   ],
   "source": [
    "top20 = list(next(pcap) for _ in range(20))\n",
    "for ts, buf in top20:    \n",
    "    eth = dpkt.ethernet.Ethernet(buf)\n",
    "\n",
    "    thetime = datetime.datetime.utcfromtimestamp(float(ts))\n",
    "    timestr = thetime.strftime(\"%H:%M:%S.%f\")\n",
    "    \n",
    "    ip = eth.data\n",
    "    tcp = ip.data\n",
    "    \n",
    "    srcPort = tcp.sport\n",
    "    destPort = tcp.dport\n",
    "    print(\"%s: %s --> %s\" % (timestr, str(srcPort), str(destPort)))"
   ]
  },
  {
   "cell_type": "code",
   "execution_count": 13,
   "metadata": {},
   "outputs": [],
   "source": [
    "http_traffic = [(ts, buf) for (ts, buf) in top20 if dpkt.ethernet.Ethernet(buf).data.data.dport ==80]"
   ]
  },
  {
   "cell_type": "code",
   "execution_count": 15,
   "metadata": {},
   "outputs": [
    {
     "data": {
      "text/plain": [
       "4"
      ]
     },
     "execution_count": 15,
     "metadata": {},
     "output_type": "execute_result"
    }
   ],
   "source": [
    "len(http_traffic)"
   ]
  },
  {
   "cell_type": "code",
   "execution_count": 17,
   "metadata": {},
   "outputs": [
    {
     "name": "stdout",
     "output_type": "stream",
     "text": [
      "(1331901000.0, b'\\x00\\x16G\\x9d\\xf2\\xc2\\x00\\x0c)AK\\xe7\\x81\\x00\\x00x\\x08\\x00E\\x00\\x00\\xda~%@\\x00@\\x06\\x8a\\\\\\xc0\\xa8\\xcaO\\xc0\\xa8\\xe5\\xfb\\xc5!\\x00P\\x9e\\xb2\\x07\\xe5\\xb5\\x8e\\x17\\x93\\x80\\x18\\x03\\x91\\x15\\xbc\\x00\\x00\\x01\\x01\\x08\\n\\x00\\x86y\\xc7\\x00\\x00\\x00\\x00HEAD /DEASLog02.nsf HTTP/1.1\\r\\nConnection: close\\r\\nUser-Agent: Mozilla/5.0 (compatible; Nmap Scripting Engine; http://nmap.org/book/nse.html)\\r\\nHost: 192.168.229.251\\r\\n\\r\\n')\n"
     ]
    }
   ],
   "source": [
    "print(http_traffic[-1])"
   ]
  },
  {
   "cell_type": "code",
   "execution_count": 18,
   "metadata": {},
   "outputs": [],
   "source": [
    "ts, buf = top20[5]\n",
    "eth = dpkt.ethernet.Ethernet(buf)\n",
    "\n",
    "thetime = datetime.datetime.utcfromtimestamp(float(ts))\n",
    "timestr = thetime.strftime(\"%H:%M:%S.%f\")\n",
    "\n",
    "ip = eth.data\n",
    "tcp = ip.data\n",
    "\n",
    "srcPort = tcp.sport\n",
    "destPort = tcp.dport"
   ]
  },
  {
   "cell_type": "code",
   "execution_count": 19,
   "metadata": {},
   "outputs": [
    {
     "data": {
      "text/plain": [
       "Ethernet(dst=b'\\x00\\x16G\\x9d\\xf2\\xc2', src=b'\\x00\\x0c)AK\\xe7', type=33024, vlan_tags=[VLANtag8021Q(pri=0, cfi=0, id=120)], vlanid=120, priority=0, cfi=0, data=IP(len=199, id=31531, off=16384, p=6, sum=36299, src=b'\\xc0\\xa8\\xcaO', dst=b'\\xc0\\xa8\\xe5\\x99', opts=b'', data=TCP(sport=55173, dport=445, seq=1828138798, ack=427054423, off=8, flags=24, win=913, sum=25258, opts=b'\\x01\\x01\\x08\\n\\x00\\x86y\\xc7;\\x9a[U', data=b'\\x00\\x00\\x00\\x8f\\xffSMBs\\x00\\x00\\x00\\x00\\x18E`\\x00\\x00A\\xd1m}Y\\x1c\\x86\\xb7\\x00\\x00\\x00\\x00\\xd4Y\\x00\\x00\\x01\\x00\\r\\xff\\x00\\x00\\x00\\xff\\xff\\x01\\x00\\x01\\x00\\x00\\x00\\x00\\x00\\x18\\x00\\x18\\x00\\x00\\x00\\x00\\x00P\\x00\\x00\\x00R\\x00\\xe1\\x83\\x83\\x9d\\xfc6\\\\u\\xb1#Bn\\xc9\\x7f<\\r!]\\xf3\\x92\\x8a\\x1f\\x12\\x7f\\xe1\\x83\\x83\\x9d\\xfc6\\\\u\\xb1#Bn\\xc9\\x7f<\\r!]\\xf3\\x92\\x8a\\x1f\\x12\\x7fadministrator\\x00\\x00Nmap\\x00Native Lanman\\x00')))"
      ]
     },
     "execution_count": 19,
     "metadata": {},
     "output_type": "execute_result"
    }
   ],
   "source": [
    "eth"
   ]
  },
  {
   "cell_type": "code",
   "execution_count": 20,
   "metadata": {},
   "outputs": [
    {
     "data": {
      "text/plain": [
       "IP(len=199, id=31531, off=16384, p=6, sum=36299, src=b'\\xc0\\xa8\\xcaO', dst=b'\\xc0\\xa8\\xe5\\x99', opts=b'', data=TCP(sport=55173, dport=445, seq=1828138798, ack=427054423, off=8, flags=24, win=913, sum=25258, opts=b'\\x01\\x01\\x08\\n\\x00\\x86y\\xc7;\\x9a[U', data=b'\\x00\\x00\\x00\\x8f\\xffSMBs\\x00\\x00\\x00\\x00\\x18E`\\x00\\x00A\\xd1m}Y\\x1c\\x86\\xb7\\x00\\x00\\x00\\x00\\xd4Y\\x00\\x00\\x01\\x00\\r\\xff\\x00\\x00\\x00\\xff\\xff\\x01\\x00\\x01\\x00\\x00\\x00\\x00\\x00\\x18\\x00\\x18\\x00\\x00\\x00\\x00\\x00P\\x00\\x00\\x00R\\x00\\xe1\\x83\\x83\\x9d\\xfc6\\\\u\\xb1#Bn\\xc9\\x7f<\\r!]\\xf3\\x92\\x8a\\x1f\\x12\\x7f\\xe1\\x83\\x83\\x9d\\xfc6\\\\u\\xb1#Bn\\xc9\\x7f<\\r!]\\xf3\\x92\\x8a\\x1f\\x12\\x7fadministrator\\x00\\x00Nmap\\x00Native Lanman\\x00'))"
      ]
     },
     "execution_count": 20,
     "metadata": {},
     "output_type": "execute_result"
    }
   ],
   "source": [
    "ip"
   ]
  },
  {
   "cell_type": "code",
   "execution_count": 21,
   "metadata": {},
   "outputs": [
    {
     "data": {
      "text/plain": [
       "TCP(sport=55173, dport=445, seq=1828138798, ack=427054423, off=8, flags=24, win=913, sum=25258, opts=b'\\x01\\x01\\x08\\n\\x00\\x86y\\xc7;\\x9a[U', data=b'\\x00\\x00\\x00\\x8f\\xffSMBs\\x00\\x00\\x00\\x00\\x18E`\\x00\\x00A\\xd1m}Y\\x1c\\x86\\xb7\\x00\\x00\\x00\\x00\\xd4Y\\x00\\x00\\x01\\x00\\r\\xff\\x00\\x00\\x00\\xff\\xff\\x01\\x00\\x01\\x00\\x00\\x00\\x00\\x00\\x18\\x00\\x18\\x00\\x00\\x00\\x00\\x00P\\x00\\x00\\x00R\\x00\\xe1\\x83\\x83\\x9d\\xfc6\\\\u\\xb1#Bn\\xc9\\x7f<\\r!]\\xf3\\x92\\x8a\\x1f\\x12\\x7f\\xe1\\x83\\x83\\x9d\\xfc6\\\\u\\xb1#Bn\\xc9\\x7f<\\r!]\\xf3\\x92\\x8a\\x1f\\x12\\x7fadministrator\\x00\\x00Nmap\\x00Native Lanman\\x00')"
      ]
     },
     "execution_count": 21,
     "metadata": {},
     "output_type": "execute_result"
    }
   ],
   "source": [
    "tcp"
   ]
  },
  {
   "cell_type": "code",
   "execution_count": null,
   "metadata": {},
   "outputs": [],
   "source": []
  },
  {
   "cell_type": "code",
   "execution_count": null,
   "metadata": {},
   "outputs": [],
   "source": []
  }
 ],
 "metadata": {
  "kernelspec": {
   "display_name": "Python 3",
   "language": "python",
   "name": "python3"
  },
  "language_info": {
   "codemirror_mode": {
    "name": "ipython",
    "version": 3
   },
   "file_extension": ".py",
   "mimetype": "text/x-python",
   "name": "python",
   "nbconvert_exporter": "python",
   "pygments_lexer": "ipython3",
   "version": "3.6.8"
  }
 },
 "nbformat": 4,
 "nbformat_minor": 2
}
