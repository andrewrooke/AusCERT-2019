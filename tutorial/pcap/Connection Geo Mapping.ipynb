{
 "cells": [
  {
   "cell_type": "markdown",
   "metadata": {},
   "source": [
    "# Overview\n",
    "\n",
    "1. Generate some IPs (or lazily use the samples)\n",
    "2. Query a geo server for location data\n",
    "3. Plot these locations on a map\n",
    "\n",
    "Note — we don't utilise this functionality in this exercise, but psutil will get connections per-process, which can be used to map typical network connections for your applications"
   ]
  },
  {
   "cell_type": "code",
   "execution_count": 1,
   "metadata": {},
   "outputs": [],
   "source": [
    "sample_ips = []  # Generate these yourself from your own machine later\n",
    "sample_ips = ['17.248.155.73', '17.248.155.168', '8.8.8.8', '1.1.1.1']"
   ]
  },
  {
   "cell_type": "markdown",
   "metadata": {},
   "source": [
    "# Visit this: \n",
    "\n",
    "http://ip-api.com/#17.248.155.168"
   ]
  },
  {
   "cell_type": "code",
   "execution_count": 39,
   "metadata": {},
   "outputs": [],
   "source": [
    "import folium\n",
    "import geopy # https://github.com/geopy/geopy\n",
    "from ip2geo import ip2geo as ig\n",
    "import time"
   ]
  },
  {
   "cell_type": "code",
   "execution_count": 3,
   "metadata": {},
   "outputs": [],
   "source": [
    "location = ig.get_geo_ipapi(sample_ips[0])"
   ]
  },
  {
   "cell_type": "code",
   "execution_count": 4,
   "metadata": {},
   "outputs": [
    {
     "data": {
      "text/plain": [
       "{'country': 'Australia',\n",
       " 'country_code': 'AU',\n",
       " 'region': 'New South Wales',\n",
       " 'region_code': 'NSW',\n",
       " 'city': 'Sydney',\n",
       " 'org': 'Apple Inc.'}"
      ]
     },
     "execution_count": 4,
     "metadata": {},
     "output_type": "execute_result"
    }
   ],
   "source": [
    "location"
   ]
  },
  {
   "cell_type": "code",
   "execution_count": 8,
   "metadata": {},
   "outputs": [],
   "source": [
    "locations = [ig.get_geo_ipapi(ip) for ip in sample_ips]"
   ]
  },
  {
   "cell_type": "code",
   "execution_count": 12,
   "metadata": {},
   "outputs": [
    {
     "name": "stdout",
     "output_type": "stream",
     "text": [
      "['Australia', 'Australia', 'United States', 'Australia']\n"
     ]
    }
   ],
   "source": [
    "countries = [loc['country'] for loc in locations]\n",
    "print(countries)"
   ]
  },
  {
   "cell_type": "code",
   "execution_count": 13,
   "metadata": {},
   "outputs": [
    {
     "name": "stdout",
     "output_type": "stream",
     "text": [
      "['Sydney', 'Sydney', 'Mountain View', 'South Brisbane']\n"
     ]
    }
   ],
   "source": [
    "cities = [loc['city'] for loc in locations]\n",
    "print(cities)"
   ]
  },
  {
   "cell_type": "code",
   "execution_count": 16,
   "metadata": {},
   "outputs": [],
   "source": [
    "from geopy.geocoders import Nominatim\n",
    "coder = Nominatim(user_agent='AusCERT2019')"
   ]
  },
  {
   "cell_type": "code",
   "execution_count": 23,
   "metadata": {},
   "outputs": [],
   "source": [
    "syd = coder.geocode(cities[0])"
   ]
  },
  {
   "cell_type": "code",
   "execution_count": 24,
   "metadata": {},
   "outputs": [
    {
     "data": {
      "text/plain": [
       "(-33.8548157, 151.2164539)"
      ]
     },
     "execution_count": 24,
     "metadata": {},
     "output_type": "execute_result"
    }
   ],
   "source": [
    "syd.latitude, syd.longitude"
   ]
  },
  {
   "cell_type": "code",
   "execution_count": 40,
   "metadata": {},
   "outputs": [],
   "source": [
    "coded_cities = []\n",
    "for city in cities:\n",
    "    coded = coder.geocode(city)\n",
    "    coded_cities.append(coded)\n",
    "    time.sleep(2)  # API is rate-limited, please be nice"
   ]
  },
  {
   "cell_type": "code",
   "execution_count": 27,
   "metadata": {},
   "outputs": [],
   "source": [
    "m = folium.Map(location=[syd.latitude,syd.longitude])"
   ]
  },
  {
   "cell_type": "code",
   "execution_count": 30,
   "metadata": {},
   "outputs": [],
   "source": [
    "fg=folium.FeatureGroup(name=\"Connection Locations\")"
   ]
  },
  {
   "cell_type": "code",
   "execution_count": 60,
   "metadata": {},
   "outputs": [],
   "source": [
    "for name, geo in zip(cities, coded_cities):\n",
    "    lat = geo.latitude\n",
    "    lon = geo.longitude\n",
    "    fg.add_child(folium.Marker(location=[lat, lon],\n",
    "                               popup=(folium.Popup(name)),\n",
    "                               icon=folium.Icon(color='red',\n",
    "                                                icon_color='green')\n",
    "                              )\n",
    "                )"
   ]
  },
  {
   "cell_type": "code",
   "execution_count": 61,
   "metadata": {},
   "outputs": [
    {
     "data": {
      "text/html": [
       "<div style=\"width:100%;\"><div style=\"position:relative;width:100%;height:0;padding-bottom:60%;\"><iframe src=\"data:text/html;charset=utf-8;base64,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\" style=\"position:absolute;width:100%;height:100%;left:0;top:0;border:none !important;\" allowfullscreen webkitallowfullscreen mozallowfullscreen></iframe></div></div>"
      ],
      "text/plain": [
       "<folium.folium.Map at 0x11e118860>"
      ]
     },
     "execution_count": 61,
     "metadata": {},
     "output_type": "execute_result"
    }
   ],
   "source": [
    "m.add_child(fg)"
   ]
  },
  {
   "cell_type": "code",
   "execution_count": 62,
   "metadata": {},
   "outputs": [],
   "source": [
    "# Bonus exercise: geolocate your own IP address and add lines from your IP to each connection point\n",
    "\n",
    "# https://deparkes.co.uk/2016/06/03/plot-lines-in-folium/ may provide helpful instructions!"
   ]
  },
  {
   "cell_type": "code",
   "execution_count": null,
   "metadata": {},
   "outputs": [],
   "source": []
  }
 ],
 "metadata": {
  "kernelspec": {
   "display_name": "Python 3",
   "language": "python",
   "name": "python3"
  },
  "language_info": {
   "codemirror_mode": {
    "name": "ipython",
    "version": 3
   },
   "file_extension": ".py",
   "mimetype": "text/x-python",
   "name": "python",
   "nbconvert_exporter": "python",
   "pygments_lexer": "ipython3",
   "version": "3.6.8"
  }
 },
 "nbformat": 4,
 "nbformat_minor": 2
}
