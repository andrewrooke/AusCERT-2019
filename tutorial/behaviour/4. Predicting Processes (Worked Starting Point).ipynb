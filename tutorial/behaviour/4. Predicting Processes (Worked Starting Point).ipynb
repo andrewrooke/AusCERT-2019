{
 "cells": [
  {
   "cell_type": "markdown",
   "metadata": {},
   "source": [
    "### Examples:\n",
    "\n",
    "1. Predict the parent process name from the child process name\n",
    "\n",
    "### Methodology:\n",
    "\n",
    "1. Create \"unseen\", and \"seen\" data sets using data you created earlier, or new captures\n",
    "1. Learn the relationship between process names and parent process names\n",
    "1. Explore the effectiveness of the trained model on the unseen data set\n",
    "\n",
    "### Try for yourself:\n",
    "\n",
    "1. Predict the working directory from the process name\n",
    "1. Predict the time of day from the child process name"
   ]
  },
  {
   "cell_type": "code",
   "execution_count": 1,
   "metadata": {},
   "outputs": [],
   "source": [
    "import matplotlib\n",
    "import pandas\n",
    "import psutil\n",
    "import time\n",
    "\n",
    "from sklearn.model_selection import train_test_split\n",
    "\n",
    "%matplotlib inline"
   ]
  },
  {
   "cell_type": "code",
   "execution_count": 2,
   "metadata": {},
   "outputs": [],
   "source": [
    "columns = ['pid', 'ppid', 'cwd', 'create_time', 'cmdline', 'name']"
   ]
  },
  {
   "cell_type": "code",
   "execution_count": null,
   "metadata": {},
   "outputs": [],
   "source": [
    "i = 0\n",
    "vvalues = []\n",
    "\n",
    "# Every 5 seconds for half an hour\n",
    "for i in range(360):\n",
    "    for proc in psutil.process_iter(attrs=columns):\n",
    "        values = list(proc.info.values())\n",
    "        vvalues += [values]\n",
    "    \n",
    "    time.sleep(5)\n"
   ]
  },
  {
   "cell_type": "code",
   "execution_count": null,
   "metadata": {},
   "outputs": [],
   "source": [
    "df = pandas.DataFrame(columns=columns, data=vvalues)"
   ]
  },
  {
   "cell_type": "code",
   "execution_count": null,
   "metadata": {},
   "outputs": [],
   "source": [
    "df['create_time'] = pandas.to_datetime(df['create_time'], unit='s')\n",
    "df"
   ]
  },
  {
   "cell_type": "code",
   "execution_count": null,
   "metadata": {},
   "outputs": [],
   "source": [
    "# df.to_pickle('my_processes.pickle')"
   ]
  },
  {
   "cell_type": "code",
   "execution_count": 3,
   "metadata": {},
   "outputs": [],
   "source": [
    "df = pandas.read_pickle('my_processes.pickle')"
   ]
  },
  {
   "cell_type": "code",
   "execution_count": 4,
   "metadata": {},
   "outputs": [
    {
     "data": {
      "text/plain": [
       "96631"
      ]
     },
     "execution_count": 4,
     "metadata": {},
     "output_type": "execute_result"
    }
   ],
   "source": [
    "len(df)"
   ]
  },
  {
   "cell_type": "code",
   "execution_count": 5,
   "metadata": {},
   "outputs": [
    {
     "data": {
      "text/plain": [
       "260"
      ]
     },
     "execution_count": 5,
     "metadata": {},
     "output_type": "execute_result"
    }
   ],
   "source": [
    "names = set(df['name'])\n",
    "len(names)"
   ]
  },
  {
   "cell_type": "code",
   "execution_count": 6,
   "metadata": {},
   "outputs": [
    {
     "data": {
      "text/plain": [
       "['captiveagent', 'login', 'netbiosd', 'Wireshark', 'LocationMenu']"
      ]
     },
     "execution_count": 6,
     "metadata": {},
     "output_type": "execute_result"
    }
   ],
   "source": [
    "list(names)[:5]"
   ]
  },
  {
   "cell_type": "code",
   "execution_count": 7,
   "metadata": {},
   "outputs": [],
   "source": [
    "name_to_index = {name: index for index, name in enumerate(names)}\n",
    "index_to_name = {index: name for index, name in enumerate(names)}"
   ]
  },
  {
   "cell_type": "code",
   "execution_count": 8,
   "metadata": {},
   "outputs": [
    {
     "data": {
      "text/plain": [
       "[('captiveagent', 0),\n",
       " ('login', 1),\n",
       " ('netbiosd', 2),\n",
       " ('Wireshark', 3),\n",
       " ('LocationMenu', 4)]"
      ]
     },
     "execution_count": 8,
     "metadata": {},
     "output_type": "execute_result"
    }
   ],
   "source": [
    "list(name_to_index.items())[:5]"
   ]
  },
  {
   "cell_type": "code",
   "execution_count": 9,
   "metadata": {},
   "outputs": [
    {
     "data": {
      "text/plain": [
       "'LocationMenu'"
      ]
     },
     "execution_count": 9,
     "metadata": {},
     "output_type": "execute_result"
    }
   ],
   "source": [
    "index_to_name[4]"
   ]
  },
  {
   "cell_type": "markdown",
   "metadata": {},
   "source": [
    "## Our Goal\n",
    "\n",
    "Create a dictionary showing the child process name, the parent process name, and the number of times that parent was observed to launch the child.\n",
    "\n",
    "```\n",
    "{ \n",
    "   (name1, name2): 3,\n",
    "   (name1, name4): 1,\n",
    "   (name5, name2): 2\n",
    "   ...\n",
    "}\n",
    "```\n",
    "\n",
    "But we really need to train our model on:\n",
    "\n",
    "```\n",
    "{ \n",
    "   (name_id_1, name_id_2): 3,\n",
    "   (name_id_1, name_id_4): 1,\n",
    "   (name_id_5, name_id_2): 2\n",
    "   ...\n",
    "}\n",
    "```\n",
    "\n",
    "A deeper, more complex goal might be:\n",
    "\n",
    "```\n",
    "{ \n",
    "   (name1, name2, name3): 3,\n",
    "   (name1, name4, name5): 1,\n",
    "   (name5, name2, name5): 2\n",
    "   ...\n",
    "}\n",
    "```\n",
    "\n",
    "Each sequence is like a sentence. The length of the sequence used for learning is an \"n-gram\"\n",
    "\n",
    "In this way, by sequencing the IDs of \"anything of note\" with a causaul relationship, we can learn the prevalance of a causal chain, and start to perform machine learning over these event sequences in the same way as for word sequences.\n"
   ]
  },
  {
   "cell_type": "code",
   "execution_count": 10,
   "metadata": {},
   "outputs": [],
   "source": [
    "df['name_id'] = df.apply(lambda x: name_to_index[x['name']], axis=1)"
   ]
  },
  {
   "cell_type": "code",
   "execution_count": 11,
   "metadata": {},
   "outputs": [
    {
     "data": {
      "text/plain": [
       "260"
      ]
     },
     "execution_count": 11,
     "metadata": {},
     "output_type": "execute_result"
    }
   ],
   "source": [
    "len(set(df['name_id']))"
   ]
  },
  {
   "cell_type": "code",
   "execution_count": 12,
   "metadata": {},
   "outputs": [
    {
     "data": {
      "text/plain": [
       "113"
      ]
     },
     "execution_count": 12,
     "metadata": {},
     "output_type": "execute_result"
    }
   ],
   "source": [
    "pid_name_pair = df.apply(lambda x: (x['pid'], x['name_id']), axis=1)\n",
    "pid_to_name_id = {pid: name for (pid, name) in list(pid_name_pair)}\n",
    "pid_to_name_id[998]  "
   ]
  },
  {
   "cell_type": "code",
   "execution_count": 13,
   "metadata": {},
   "outputs": [
    {
     "data": {
      "text/plain": [
       "'airportd'"
      ]
     },
     "execution_count": 13,
     "metadata": {},
     "output_type": "execute_result"
    }
   ],
   "source": [
    "index_to_name[221]  # expect bash "
   ]
  },
  {
   "cell_type": "code",
   "execution_count": 14,
   "metadata": {},
   "outputs": [
    {
     "data": {
      "text/html": [
       "<div>\n",
       "<style scoped>\n",
       "    .dataframe tbody tr th:only-of-type {\n",
       "        vertical-align: middle;\n",
       "    }\n",
       "\n",
       "    .dataframe tbody tr th {\n",
       "        vertical-align: top;\n",
       "    }\n",
       "\n",
       "    .dataframe thead th {\n",
       "        text-align: right;\n",
       "    }\n",
       "</style>\n",
       "<table border=\"1\" class=\"dataframe\">\n",
       "  <thead>\n",
       "    <tr style=\"text-align: right;\">\n",
       "      <th></th>\n",
       "      <th>pid</th>\n",
       "      <th>ppid</th>\n",
       "      <th>cwd</th>\n",
       "      <th>create_time</th>\n",
       "      <th>cmdline</th>\n",
       "      <th>name</th>\n",
       "      <th>name_id</th>\n",
       "    </tr>\n",
       "  </thead>\n",
       "  <tbody>\n",
       "    <tr>\n",
       "      <th>75405</th>\n",
       "      <td>95198</td>\n",
       "      <td>90715</td>\n",
       "      <td>/Users/nblue/dev/AusCERT-2019/tutorial/pcap</td>\n",
       "      <td>2019-05-28 03:43:53.158512115</td>\n",
       "      <td>[/Users/nblue/dev/env/me/bin/python, -m, ipyke...</td>\n",
       "      <td>python3.6</td>\n",
       "      <td>105</td>\n",
       "    </tr>\n",
       "    <tr>\n",
       "      <th>48639</th>\n",
       "      <td>5976</td>\n",
       "      <td>1</td>\n",
       "      <td>/</td>\n",
       "      <td>2019-05-16 00:51:54.609373093</td>\n",
       "      <td>[/usr/libexec/assertiond]</td>\n",
       "      <td>assertiond</td>\n",
       "      <td>74</td>\n",
       "    </tr>\n",
       "    <tr>\n",
       "      <th>79106</th>\n",
       "      <td>1095</td>\n",
       "      <td>1</td>\n",
       "      <td>/</td>\n",
       "      <td>2019-05-15 10:33:02.263432979</td>\n",
       "      <td>[/Applications/Visual Studio Code.app/Contents...</td>\n",
       "      <td>crashpad_handler</td>\n",
       "      <td>23</td>\n",
       "    </tr>\n",
       "    <tr>\n",
       "      <th>62132</th>\n",
       "      <td>94474</td>\n",
       "      <td>90715</td>\n",
       "      <td>/Users/nblue/dev/AusCERT-2019/tutorial/behaviour</td>\n",
       "      <td>2019-05-28 02:13:34.698369026</td>\n",
       "      <td>[/Users/nblue/dev/env/me/bin/python, -m, ipyke...</td>\n",
       "      <td>python3.6</td>\n",
       "      <td>105</td>\n",
       "    </tr>\n",
       "    <tr>\n",
       "      <th>71611</th>\n",
       "      <td>336</td>\n",
       "      <td>1</td>\n",
       "      <td>/</td>\n",
       "      <td>2019-05-15 10:25:14.948797941</td>\n",
       "      <td>[/Library/Little Snitch/Little Snitch Agent.ap...</td>\n",
       "      <td>Little Snitch Agent</td>\n",
       "      <td>82</td>\n",
       "    </tr>\n",
       "  </tbody>\n",
       "</table>\n",
       "</div>"
      ],
      "text/plain": [
       "         pid   ppid                                               cwd  \\\n",
       "75405  95198  90715       /Users/nblue/dev/AusCERT-2019/tutorial/pcap   \n",
       "48639   5976      1                                                 /   \n",
       "79106   1095      1                                                 /   \n",
       "62132  94474  90715  /Users/nblue/dev/AusCERT-2019/tutorial/behaviour   \n",
       "71611    336      1                                                 /   \n",
       "\n",
       "                        create_time  \\\n",
       "75405 2019-05-28 03:43:53.158512115   \n",
       "48639 2019-05-16 00:51:54.609373093   \n",
       "79106 2019-05-15 10:33:02.263432979   \n",
       "62132 2019-05-28 02:13:34.698369026   \n",
       "71611 2019-05-15 10:25:14.948797941   \n",
       "\n",
       "                                                 cmdline                 name  \\\n",
       "75405  [/Users/nblue/dev/env/me/bin/python, -m, ipyke...            python3.6   \n",
       "48639                          [/usr/libexec/assertiond]           assertiond   \n",
       "79106  [/Applications/Visual Studio Code.app/Contents...     crashpad_handler   \n",
       "62132  [/Users/nblue/dev/env/me/bin/python, -m, ipyke...            python3.6   \n",
       "71611  [/Library/Little Snitch/Little Snitch Agent.ap...  Little Snitch Agent   \n",
       "\n",
       "       name_id  \n",
       "75405      105  \n",
       "48639       74  \n",
       "79106       23  \n",
       "62132      105  \n",
       "71611       82  "
      ]
     },
     "execution_count": 14,
     "metadata": {},
     "output_type": "execute_result"
    }
   ],
   "source": [
    "train, test = train_test_split(df, test_size=0.2)\n",
    "train.head()"
   ]
  },
  {
   "cell_type": "code",
   "execution_count": null,
   "metadata": {},
   "outputs": [],
   "source": []
  }
 ],
 "metadata": {
  "kernelspec": {
   "display_name": "Python 3",
   "language": "python",
   "name": "python3"
  },
  "language_info": {
   "codemirror_mode": {
    "name": "ipython",
    "version": 3
   },
   "file_extension": ".py",
   "mimetype": "text/x-python",
   "name": "python",
   "nbconvert_exporter": "python",
   "pygments_lexer": "ipython3",
   "version": "3.6.8"
  }
 },
 "nbformat": 4,
 "nbformat_minor": 2
}
