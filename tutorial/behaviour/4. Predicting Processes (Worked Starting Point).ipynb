{
 "cells": [
  {
   "cell_type": "markdown",
   "metadata": {},
   "source": [
    "### Examples:\n",
    "\n",
    "1. Predict the parent process name from the child process name\n",
    "\n",
    "### Methodology:\n",
    "\n",
    "1. Create \"unseen\", and \"seen\" data sets using data you created earlier, or new captures\n",
    "1. Learn the relationship between process names and parent process names\n",
    "1. Explore the effectiveness of the trained model on the unseen data set\n",
    "\n",
    "### Try for yourself:\n",
    "\n",
    "1. Predict the working directory from the process name\n",
    "1. Predict the time of day from the child process name"
   ]
  },
  {
   "cell_type": "code",
   "execution_count": null,
   "metadata": {},
   "outputs": [],
   "source": [
    "import matplotlib\n",
    "import pandas\n",
    "import psutil\n",
    "import time\n",
    "\n",
    "from sklearn.model_selection import train_test_split\n",
    "\n",
    "%matplotlib inline"
   ]
  },
  {
   "cell_type": "code",
   "execution_count": null,
   "metadata": {},
   "outputs": [],
   "source": [
    "columns = ['pid', 'ppid', 'cwd', 'create_time', 'cmdline', 'name']"
   ]
  },
  {
   "cell_type": "code",
   "execution_count": null,
   "metadata": {},
   "outputs": [],
   "source": [
    "i = 0\n",
    "vvalues = []\n",
    "\n",
    "# Every 5 seconds for half an hour\n",
    "for i in range(360):\n",
    "    for proc in psutil.process_iter(attrs=columns):\n",
    "        values = list(proc.info.values())\n",
    "        vvalues += [values]\n",
    "    \n",
    "    time.sleep(5)\n"
   ]
  },
  {
   "cell_type": "code",
   "execution_count": null,
   "metadata": {},
   "outputs": [],
   "source": [
    "df = pandas.DataFrame(columns=columns, data=vvalues)"
   ]
  },
  {
   "cell_type": "code",
   "execution_count": null,
   "metadata": {},
   "outputs": [],
   "source": [
    "df['create_time'] = pandas.to_datetime(df['create_time'], unit='s')\n",
    "df"
   ]
  },
  {
   "cell_type": "code",
   "execution_count": null,
   "metadata": {},
   "outputs": [],
   "source": [
    "df.to_pickle('my_processes.pickle')"
   ]
  },
  {
   "cell_type": "code",
   "execution_count": null,
   "metadata": {},
   "outputs": [],
   "source": [
    "len(df)"
   ]
  },
  {
   "cell_type": "code",
   "execution_count": null,
   "metadata": {},
   "outputs": [],
   "source": [
    "names = set(df['name'])\n",
    "len(names)"
   ]
  },
  {
   "cell_type": "code",
   "execution_count": null,
   "metadata": {},
   "outputs": [],
   "source": [
    "list(names)[:5]"
   ]
  },
  {
   "cell_type": "code",
   "execution_count": null,
   "metadata": {},
   "outputs": [],
   "source": [
    "name_to_index = {name: index for index, name in enumerate(names)}\n",
    "index_to_name = {index: name for index, name in enumerate(names)}"
   ]
  },
  {
   "cell_type": "code",
   "execution_count": null,
   "metadata": {},
   "outputs": [],
   "source": [
    "list(name_to_index.items())[:5]"
   ]
  },
  {
   "cell_type": "code",
   "execution_count": null,
   "metadata": {},
   "outputs": [],
   "source": [
    "index_to_name[4]"
   ]
  },
  {
   "cell_type": "markdown",
   "metadata": {},
   "source": [
    "## Our Goal\n",
    "\n",
    "Create a dictionary showing the child process name, the parent process name, and the number of times that parent was observed to launch the child.\n",
    "\n",
    "```\n",
    "{ \n",
    "   (name1, name2): 3,\n",
    "   (name1, name4): 1,\n",
    "   (name5, name2): 2\n",
    "   ...\n",
    "}\n",
    "```\n",
    "\n",
    "But we really need to train our model on:\n",
    "\n",
    "```\n",
    "{ \n",
    "   (name_id_1, name_id_2): 3,\n",
    "   (name_id_1, name_id_4): 1,\n",
    "   (name_id_5, name_id_2): 2\n",
    "   ...\n",
    "}\n",
    "```\n",
    "\n",
    "A deeper, more complex goal might be:\n",
    "\n",
    "```\n",
    "{ \n",
    "   (name1, name2, name3): 3,\n",
    "   (name1, name4, name5): 1,\n",
    "   (name5, name2, name5): 2\n",
    "   ...\n",
    "}\n",
    "```\n",
    "\n",
    "Each sequence is like a sentence. The length of the sequence used for learning is an \"n-gram\"\n",
    "\n",
    "In this way, by sequencing the IDs of \"anything of note\" with a causaul relationship, we can learn the prevalance of a causal chain, and start to perform machine learning over these event sequences in the same way as for word sequences.\n"
   ]
  },
  {
   "cell_type": "code",
   "execution_count": null,
   "metadata": {},
   "outputs": [],
   "source": [
    "df['name_id'] = df.apply(lambda x: name_to_index[x['name']], axis=1)"
   ]
  },
  {
   "cell_type": "code",
   "execution_count": null,
   "metadata": {},
   "outputs": [],
   "source": [
    "len(set(df['name_id']))"
   ]
  },
  {
   "cell_type": "code",
   "execution_count": null,
   "metadata": {},
   "outputs": [],
   "source": [
    "pid_name_pair = df.apply(lambda x: (x['pid'], x['name_id']), axis=1)\n",
    "pid_to_name_id = {pid: name for (pid, name) in list(pid_name_pair)}\n",
    "pid_to_name_id[998]  "
   ]
  },
  {
   "cell_type": "code",
   "execution_count": null,
   "metadata": {},
   "outputs": [],
   "source": [
    "index_to_name[221]  # expect bash "
   ]
  },
  {
   "cell_type": "code",
   "execution_count": null,
   "metadata": {},
   "outputs": [],
   "source": [
    "train, test = train_test_split(df, test_size=0.2)\n",
    "train.head()"
   ]
  }
 ],
 "metadata": {
  "kernelspec": {
   "display_name": "Python 3",
   "language": "python",
   "name": "python3"
  },
  "language_info": {
   "codemirror_mode": {
    "name": "ipython",
    "version": 3
   },
   "file_extension": ".py",
   "mimetype": "text/x-python",
   "name": "python",
   "nbconvert_exporter": "python",
   "pygments_lexer": "ipython3",
   "version": "3.6.8"
  }
 },
 "nbformat": 4,
 "nbformat_minor": 2
}
