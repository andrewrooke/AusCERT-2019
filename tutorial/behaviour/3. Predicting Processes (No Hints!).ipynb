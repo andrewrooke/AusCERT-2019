{
 "cells": [
  {
   "cell_type": "markdown",
   "metadata": {},
   "source": [
    "Exercises:\n",
    "\n",
    "1. Predict the parent process name from the child process name\n",
    "2. Predict the working directory from the process name\n",
    "\n",
    "Methodology:\n",
    "\n",
    "1. Create \"unseen\", and \"seen\" data sets using data you created earlier, or new captures\n",
    "1. Learn the relationship between process names and parent process names\n",
    "1. Explore the effectiveness of the trained model on the unseen data set"
   ]
  },
  {
   "cell_type": "code",
   "execution_count": 1,
   "metadata": {},
   "outputs": [],
   "source": [
    "# Good Luck!!!!"
   ]
  },
  {
   "cell_type": "code",
   "execution_count": 2,
   "metadata": {},
   "outputs": [],
   "source": [
    "import matplotlib\n",
    "import pandas\n",
    "import psutil\n",
    "import time\n",
    "\n",
    "%matplotlib inline"
   ]
  },
  {
   "cell_type": "code",
   "execution_count": 3,
   "metadata": {},
   "outputs": [],
   "source": [
    "columns = ['pid', 'name', 'ppid', 'cmdline', 'cwd', 'create_time']"
   ]
  },
  {
   "cell_type": "code",
   "execution_count": null,
   "metadata": {},
   "outputs": [],
   "source": [
    "i = 0\n",
    "vvalues = []\n",
    "\n",
    "# Every 5 seconds for half an hour\n",
    "for i in range(360):\n",
    "    for proc in psutil.process_iter(attrs=columns):\n",
    "        values = list(proc.info.values())\n",
    "        vvalues += [values]\n",
    "    \n",
    "    time.sleep(5)\n"
   ]
  },
  {
   "cell_type": "code",
   "execution_count": null,
   "metadata": {},
   "outputs": [],
   "source": [
    "df = pandas.DataFrame(columns=columns, data=vvalues)\n",
    "df.to_pickle('my_processes.pickle')"
   ]
  }
 ],
 "metadata": {
  "kernelspec": {
   "display_name": "Python 3",
   "language": "python",
   "name": "python3"
  },
  "language_info": {
   "codemirror_mode": {
    "name": "ipython",
    "version": 3
   },
   "file_extension": ".py",
   "mimetype": "text/x-python",
   "name": "python",
   "nbconvert_exporter": "python",
   "pygments_lexer": "ipython3",
   "version": "3.6.8"
  }
 },
 "nbformat": 4,
 "nbformat_minor": 2
}
